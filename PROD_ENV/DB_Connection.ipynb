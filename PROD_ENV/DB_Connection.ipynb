{
 "cells": [
  {
   "cell_type": "code",
   "execution_count": 1,
   "id": "1890ec97",
   "metadata": {},
   "outputs": [],
   "source": [
    "import pandas as pd\n",
    "import psycopg2\n",
    "from sqlalchemy import create_engine\n",
    "import config"
   ]
  },
  {
   "cell_type": "code",
   "execution_count": 2,
   "id": "dff75d0b",
   "metadata": {},
   "outputs": [],
   "source": [
    "database=config.database\n",
    "user=config.user\n",
    "password=config.password\n",
    "host=config.db_host\n",
    "port=config.port\n",
    "\n",
    "conn_string = f'postgresql://{user}:{password}@{host}:{port}/{database}'\n",
    "  \n",
    "db = create_engine(conn_string) \n",
    "conn = db.connect()"
   ]
  },
  {
   "cell_type": "code",
   "execution_count": 3,
   "id": "6d0a8b9c",
   "metadata": {},
   "outputs": [],
   "source": [
    "df_batting=pd.read_csv(\"batting_data.csv\")\n",
    "df_pitching=pd.read_csv(\"pitching_data.csv\")"
   ]
  },
  {
   "cell_type": "code",
   "execution_count": 92,
   "id": "8829e4fa",
   "metadata": {},
   "outputs": [
    {
     "data": {
      "text/plain": [
       "746"
      ]
     },
     "execution_count": 92,
     "metadata": {},
     "output_type": "execute_result"
    }
   ],
   "source": [
    "df_batting.to_sql(\"Batter_data\", con=conn,if_exists='replace')"
   ]
  },
  {
   "cell_type": "code",
   "execution_count": 14,
   "id": "33850909",
   "metadata": {},
   "outputs": [
    {
     "data": {
      "text/plain": [
       "695"
      ]
     },
     "execution_count": 14,
     "metadata": {},
     "output_type": "execute_result"
    }
   ],
   "source": [
    "df_pitching.to_sql(\"Pitching_data\", con=conn,if_exists='replace')"
   ]
  },
  {
   "cell_type": "code",
   "execution_count": 15,
   "id": "efa3f768",
   "metadata": {},
   "outputs": [],
   "source": [
    "# psycopg2 connection\n",
    "conn_string = f\"host={host} dbname={database} user={user} password={password}\"\n",
    "conn = psycopg2.connect(conn_string)\n",
    "\n",
    "# Query the data\n",
    "cur = conn.cursor()\n",
    "cur.execute('SELECT * FROM \"Pitching_data\";')\n",
    "query_results = cur.fetchall()\n",
    "\n",
    "# Close connections\n",
    "cur.close()\n",
    "conn.close()\n"
   ]
  },
  {
   "cell_type": "code",
   "execution_count": null,
   "id": "01654814",
   "metadata": {},
   "outputs": [],
   "source": []
  }
 ],
 "metadata": {
  "kernelspec": {
   "display_name": "Python 3 (ipykernel)",
   "language": "python",
   "name": "python3"
  },
  "language_info": {
   "codemirror_mode": {
    "name": "ipython",
    "version": 3
   },
   "file_extension": ".py",
   "mimetype": "text/x-python",
   "name": "python",
   "nbconvert_exporter": "python",
   "pygments_lexer": "ipython3",
   "version": "3.11.5"
  }
 },
 "nbformat": 4,
 "nbformat_minor": 5
}
